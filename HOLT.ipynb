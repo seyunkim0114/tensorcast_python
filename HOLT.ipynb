{
 "cells": [
  {
   "cell_type": "code",
   "execution_count": null,
   "id": "55315b25-d001-4e3b-8396-a49cdee9b3c2",
   "metadata": {},
   "outputs": [],
   "source": [
    "from matplotlib import pyplot as plt\n",
    "import pandas as pd\n",
    "from statsmodels.tsa.holtwinters import Holt\n",
    "from matplotlib.pyplot import figure\n",
    "\n",
    "time_list = [0,1,2,3,4]\n",
    "\n",
    "def getDataset(csv_file):\n",
    "    T = pd.read_csv(csv_file, index_col=False)\n",
    "    return T\n",
    "\n",
    "def printFigure(fac,w,h):\n",
    "    num = len(time_list)\n",
    "    plt.figure()\n",
    "    figure(figsize=(w,h), dpi=80)\n",
    "    for i in range(0,num):\n",
    "        plt.subplot(1,num,i+1)\n",
    "        fac[str(time_list[i])].plot()\n",
    "        plt.title(f'{time_list[i]}th')\n",
    "    \n",
    "def splitDataset(series,n):\n",
    "    train = series[:-n]\n",
    "    test = series[-n:]\n",
    "    return train,test\n",
    "\n",
    "def buildModelHolt(train,test,n,zoom):\n",
    "    model = HWES(train,exponential=True)\n",
    "    fit = model.fit(optimized=True,use_brute=True)\n",
    "    print(fit.summary())\n",
    "    forecast = fit.forecast(steps=n)\n",
    "    \n",
    "    fig = plt.figure()\n",
    "    past, = plt.plot(train[-zoom:].index, train[-zoom:], 'b.-', label='Traffic histroy')\n",
    "    future, = plt.plot(test[-zoom:].index, test[-zoom:], 'r.-', label='Traffic future')\n",
    "    predicted, = plt.plot(test[-zoom:].index, forecast, 'g.-', label='Traffic predicted')\n",
    "    plt.legend()\n",
    "    fig.show()"
   ]
  }
 ],
 "metadata": {
  "kernelspec": {
   "display_name": "Python 3",
   "language": "python",
   "name": "python3"
  },
  "language_info": {
   "codemirror_mode": {
    "name": "ipython",
    "version": 3
   },
   "file_extension": ".py",
   "mimetype": "text/x-python",
   "name": "python",
   "nbconvert_exporter": "python",
   "pygments_lexer": "ipython3",
   "version": "3.6.5"
  }
 },
 "nbformat": 4,
 "nbformat_minor": 5
}
