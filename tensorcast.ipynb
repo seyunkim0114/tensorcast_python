{
 "cells": [
  {
   "cell_type": "code",
   "execution_count": 1,
   "id": "3be178ea-60de-4aa6-9604-9b5ae9dd7622",
   "metadata": {},
   "outputs": [],
   "source": [
    "import numpy as np\n",
    "import tensorly as tl\n",
    "import torch\n",
    "import pandas as pd\n",
    "tl.set_backend(\"pytorch\")"
   ]
  },
  {
   "cell_type": "code",
   "execution_count": 2,
   "id": "75593383-0e45-47eb-9256-fe5564042885",
   "metadata": {},
   "outputs": [],
   "source": [
    "def get_khatri_rao(X,factors,mode):\n",
    "    X_1 = tl.unfold(X,mode)\n",
    "    K = tl.tenalg.khatri_rao(factors, skip_matrix=mode)\n",
    "\n",
    "    return tl.dot(X_1,K)   "
   ]
  },
  {
   "cell_type": "code",
   "execution_count": 3,
   "id": "ea97aa3c-65e9-46cc-b613-8d3856f06a2e",
   "metadata": {},
   "outputs": [],
   "source": [
    "def get_Hadamard(factors):\n",
    "    H = tl.tensor(np.ones((r,r)))\n",
    "    for fac in factors:\n",
    "        H = H * tl.dot(tl.transpose(fac), fac)\n",
    "    return H"
   ]
  },
  {
   "cell_type": "code",
   "execution_count": 4,
   "id": "931aa96b-dc1a-4e80-ad77-4c175b8d207e",
   "metadata": {},
   "outputs": [],
   "source": [
    "def reconstruct_tensor(A,B,T):\n",
    "    X = tl.cp_tensor.cp_to_tensor((None,[A,B,T]))\n",
    "    Y = tl.cp_tensor.cp_to_tensor((None,[A,A,T]))\n",
    "    return X,Y"
   ]
  },
  {
   "cell_type": "code",
   "execution_count": 5,
   "id": "81531034-1f47-4add-bd41-0fb811daf788",
   "metadata": {},
   "outputs": [],
   "source": [
    "def getError(X,Y,A,B,T):\n",
    "    X_hat, Y_hat = reconstruct_tensor(A,B,T)\n",
    "    error = tl.norm(X)**2 + tl.norm(X_hat)**2 -2*tl.tenalg.inner(X,X_hat) + alpha*(tl.norm(X)**2+tl.norm(Y_hat)**2-2*tl.tenalg.inner(Y,Y_hat))\n",
    "    return error"
   ]
  },
  {
   "cell_type": "code",
   "execution_count": 6,
   "id": "0fb658b9-6efc-40b8-85e9-fcf49f880416",
   "metadata": {},
   "outputs": [],
   "source": [
    "def getFit(X,Y,A,B,T):\n",
    "    X_hat, Y_hat = reconstruct_tensor(A,B,T)\n",
    "    fit = 1-(tl.norm(X-X_hat)/tl.norm(X)+alpha*tl.norm(Y-Y_hat)/tl.norm(Y))\n",
    "    return fit\n"
   ]
  },
  {
   "cell_type": "code",
   "execution_count": 7,
   "id": "2b64f5aa-62f0-4988-b140-b4e9061fdfdd",
   "metadata": {},
   "outputs": [],
   "source": [
    "# hyperparameters\n",
    "N = 10\n",
    "M = 10\n",
    "K = 300\n",
    "r = 5\n",
    "d = 3\n",
    "maxiters = 15\n",
    "alpha = 0.3"
   ]
  },
  {
   "cell_type": "code",
   "execution_count": 8,
   "id": "965bbbe2-8cd7-4a1f-a9b7-a13f9fb2be19",
   "metadata": {},
   "outputs": [],
   "source": [
    "# Coupled Tensor Factorization\n",
    "def RandomCoupledTensorFac(N,M,K,r,d,alpha,maxiters):\n",
    "    # Tensor Initialization\n",
    "    X = tl.tensor(np.random.rand(N,M,K))\n",
    "    Y = tl.tensor(np.random.rand(N,N,K))\n",
    "    \n",
    "    # Initialization (random)\n",
    "    A = tl.tensor(np.random.rand(N,r))\n",
    "    B = tl.tensor(np.random.rand(M,r))\n",
    "    T = tl.tensor(np.random.rand(K,r))\n",
    "    factorsX = [A, B, T]\n",
    "    factorsY = [A, A, T]\n",
    "    error = getError(X,Y,A,B,T)\n",
    "    print(\"Non-negative Couple Tensor Factorization\")\n",
    "    print(f'Initial Error : {error}')\n",
    "    print(\"==========================================\")\n",
    "    \n",
    "    # optimization\n",
    "    for iter in range(maxiters):\n",
    "        ANum = get_khatri_rao(X,factorsX,0) + alpha*get_khatri_rao(Y,factorsY,1)\n",
    "        ADem = tl.dot(A,get_Hadamard([B,T])) + alpha*tl.dot(A,get_Hadamard([A,T]))\n",
    "        Ares = (ANum/ADem)**(1/d)\n",
    "        A = A*Ares\n",
    "\n",
    "        factorsX[0] = A\n",
    "        factorsY[0] = A\n",
    "        factorsY[1] = A\n",
    "\n",
    "        BNum = get_khatri_rao(X,factorsX,1)\n",
    "        BDem = tl.dot(B,get_Hadamard([A,T]))\n",
    "        Bres = (BNum/BDem)**(1/d)\n",
    "        B = B*Bres\n",
    "\n",
    "        factorsX[1] = B\n",
    "\n",
    "        TNum = get_khatri_rao(X,factorsX,2) + alpha*get_khatri_rao(Y,factorsY,2)\n",
    "        TDem = tl.dot(T,get_Hadamard([A,B]))+alpha*tl.dot(T,get_Hadamard([A,A]))\n",
    "        Tres = (TNum/TDem)**(1/d)\n",
    "        T = T*Tres\n",
    "\n",
    "        factorsX[2] = T\n",
    "        factorsY[2] = T\n",
    "        \n",
    "        oldError = error\n",
    "        error = getError(X,Y,A,B,T)\n",
    "        fit = getFit(X,Y,A,B,T)\n",
    "        print(f'Iteration {iter+1} error : {error:.3f}\\tError change : {(oldError-error):.3f} \\tRecon Tensor Fit : {fit:.3f}')\n",
    "    return A,B,T"
   ]
  },
  {
   "cell_type": "code",
   "execution_count": 9,
   "id": "71da1a93-1911-42f4-a7cf-7587fbc5d79a",
   "metadata": {},
   "outputs": [
    {
     "name": "stdout",
     "output_type": "stream",
     "text": [
      "Non-negative Couple Tensor Factorization\n",
      "Initial Error : 10998.6845703125\n",
      "==========================================\n",
      "Iteration 1 error : 4553.535\tError change : 6445.150 \tRecon Tensor Fit : 0.234\n",
      "Iteration 2 error : 3960.599\tError change : 592.936 \tRecon Tensor Fit : 0.286\n",
      "Iteration 3 error : 3737.120\tError change : 223.479 \tRecon Tensor Fit : 0.306\n",
      "Iteration 4 error : 3617.041\tError change : 120.080 \tRecon Tensor Fit : 0.318\n",
      "Iteration 5 error : 3546.956\tError change : 70.084 \tRecon Tensor Fit : 0.324\n",
      "Iteration 6 error : 3502.577\tError change : 44.379 \tRecon Tensor Fit : 0.329\n",
      "Iteration 7 error : 3471.658\tError change : 30.919 \tRecon Tensor Fit : 0.332\n",
      "Iteration 8 error : 3448.235\tError change : 23.422 \tRecon Tensor Fit : 0.334\n",
      "Iteration 9 error : 3429.362\tError change : 18.873 \tRecon Tensor Fit : 0.336\n",
      "Iteration 10 error : 3413.492\tError change : 15.870 \tRecon Tensor Fit : 0.337\n",
      "Iteration 11 error : 3399.681\tError change : 13.812 \tRecon Tensor Fit : 0.339\n",
      "Iteration 12 error : 3387.567\tError change : 12.113 \tRecon Tensor Fit : 0.340\n",
      "Iteration 13 error : 3376.734\tError change : 10.833 \tRecon Tensor Fit : 0.341\n",
      "Iteration 14 error : 3366.928\tError change : 9.806 \tRecon Tensor Fit : 0.342\n",
      "Iteration 15 error : 3358.061\tError change : 8.867 \tRecon Tensor Fit : 0.343\n"
     ]
    }
   ],
   "source": [
    "A,B,T = RandomCoupledTensorFac(N,M,K,r,d,alpha,maxiters)"
   ]
  },
  {
   "cell_type": "code",
   "execution_count": 10,
   "id": "4eea4b3a-4499-4cfd-96ea-8ce23b9f765e",
   "metadata": {},
   "outputs": [],
   "source": [
    "# Export T\n",
    "def saveFac(T,label,np):\n",
    "    if np:\n",
    "        T = tl.to_numpy(T)\n",
    "        Tnp = pd.DataFrame(T)\n",
    "        Tnp = Tnp.to_csv(f'/home/seyunkim/tensorcast_py/T{label}.csv',index=False)\n",
    "    Tpd = pd.DataFrame(T)\n",
    "    Tpd = Tpd.to_csv(f'/home/seyunkim/tensorcast_py/T{label}.csv',index=False)\n"
   ]
  },
  {
   "cell_type": "code",
   "execution_count": 11,
   "id": "8a7934ca-dd41-4ba6-8751-5e1002f0fc6d",
   "metadata": {},
   "outputs": [],
   "source": [
    "# saveFac(T,'1')"
   ]
  },
  {
   "cell_type": "code",
   "execution_count": 13,
   "id": "a4305002-3c25-4e3e-92d3-8404ec8a56a6",
   "metadata": {},
   "outputs": [],
   "source": [
    "saveFac(T,'300',True)"
   ]
  }
 ],
 "metadata": {
  "kernelspec": {
   "display_name": "Python 3",
   "language": "python",
   "name": "python3"
  },
  "language_info": {
   "codemirror_mode": {
    "name": "ipython",
    "version": 3
   },
   "file_extension": ".py",
   "mimetype": "text/x-python",
   "name": "python",
   "nbconvert_exporter": "python",
   "pygments_lexer": "ipython3",
   "version": "3.6.5"
  }
 },
 "nbformat": 4,
 "nbformat_minor": 5
}
