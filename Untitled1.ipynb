{
 "cells": [
  {
   "cell_type": "code",
   "execution_count": 2,
   "id": "8688e1f4-afbd-4834-babe-24a9a4444a0e",
   "metadata": {},
   "outputs": [],
   "source": [
    "import tensorly as tl\n",
    "import numpy as np"
   ]
  },
  {
   "cell_type": "code",
   "execution_count": null,
   "id": "494a584d-0f44-4f78-a457-57d4ca25350b",
   "metadata": {},
   "outputs": [],
   "source": [
    "def khatri_rao(X,factors,n):\n",
    "    n_dim = len(factors)\n",
    "    "
   ]
  },
  {
   "cell_type": "code",
   "execution_count": null,
   "id": "52a970bc-aa7a-40a9-bb06-ccd720200aba",
   "metadata": {},
   "outputs": [],
   "source": [
    "def get_KhatriRao(factors):\n",
    "    n_dim = len(factors)\n",
    "    lefts = [factors[n_dim-1]]\n",
    "    rights = [factors[0]]\n",
    "    if n_dim > 2:\n",
    "        for mode in range(1, n_dim-1):\n",
    "            lefts.append(tl.tenalg.khatri_rao((lefts[mode-1], factors[n_dim-mode-1])))\n",
    "            rights.append(tl.tenalg.khatri_rao((factors[mode], rights[mode-1])))\n",
    "            \n",
    "    K = lefts.copy()\n",
    "    K[0] = lefts[n_dim-2]\n",
    "    K.append(rights[n_dim-2].copy())\n",
    "    if n_dim > 2:\n",
    "        for mode in range(1, n_dim-1):\n",
    "            K[mode] = tl.tenalg.khatri_rao((lefts[n_dim-mode-2], rights[mode-1]))\n",
    "    return K"
   ]
  }
 ],
 "metadata": {
  "kernelspec": {
   "display_name": "Python 3",
   "language": "python",
   "name": "python3"
  },
  "language_info": {
   "codemirror_mode": {
    "name": "ipython",
    "version": 3
   },
   "file_extension": ".py",
   "mimetype": "text/x-python",
   "name": "python",
   "nbconvert_exporter": "python",
   "pygments_lexer": "ipython3",
   "version": "3.6.5"
  }
 },
 "nbformat": 4,
 "nbformat_minor": 5
}
